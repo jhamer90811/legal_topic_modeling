{
 "cells": [
  {
   "cell_type": "code",
   "execution_count": 1,
   "metadata": {},
   "outputs": [],
   "source": [
    "\"\"\"\n",
    "In this notebook we examine more closely the structure of the citation graph.\n",
    "Specifically, we will look at the distributions of court type, jurisdiction, and decision year\n",
    "in the largest connected component.\n",
    "Moreover, we will look at how many opinions there are per case in this large connected component.\n",
    "\"\"\"\n",
    "\n",
    "import pandas as pd\n",
    "import networkx as nx\n",
    "\n",
    "import matplotlib.pyplot as plt\n",
    "%matplotlib inline\n",
    "\n",
    "G = nx.read_gpickle('../citation_graph.gpickle')\n",
    "big_subgraph = nx.subgraph(G, list(nx.connected_components(G))[0])\n",
    "G = None\n",
    "nodes = list(big_subgraph.nodes)\n",
    "big_subgraph = None"
   ]
  },
  {
   "cell_type": "code",
   "execution_count": 11,
   "metadata": {},
   "outputs": [
    {
     "data": {
      "text/plain": [
       "(196584, 1)"
      ]
     },
     "execution_count": 11,
     "metadata": {},
     "output_type": "execute_result"
    }
   ],
   "source": [
    "# Need to use full dataset (with opinions) to address the opinions/case question.\n",
    "op_per_case_data = pd.read_csv('../data_uncompressed/citation_graph_full_data.csv',\n",
    "                              usecols=['case_id'])\n",
    "op_per_case_data.shape"
   ]
  },
  {
   "cell_type": "code",
   "execution_count": 12,
   "metadata": {},
   "outputs": [
    {
     "data": {
      "text/plain": [
       "243891     8\n",
       "1895782    8\n",
       "3559180    7\n",
       "1578246    7\n",
       "1449586    7\n",
       "Name: case_id, dtype: int64"
      ]
     },
     "execution_count": 12,
     "metadata": {},
     "output_type": "execute_result"
    }
   ],
   "source": [
    "op_per_case_data = op_per_case_data[op_per_case_data.case_id.isin(nodes)]"
   ]
  },
  {
   "cell_type": "code",
   "execution_count": 13,
   "metadata": {},
   "outputs": [
    {
     "data": {
      "text/plain": [
       "(195491, 1)"
      ]
     },
     "execution_count": 13,
     "metadata": {},
     "output_type": "execute_result"
    }
   ],
   "source": [
    "op_per_case_data.shape"
   ]
  },
  {
   "cell_type": "code",
   "execution_count": 8,
   "metadata": {},
   "outputs": [
    {
     "data": {
      "text/plain": [
       "176483"
      ]
     },
     "execution_count": 8,
     "metadata": {},
     "output_type": "execute_result"
    }
   ],
   "source": [
    "len(nodes)"
   ]
  },
  {
   "cell_type": "code",
   "execution_count": 18,
   "metadata": {},
   "outputs": [
    {
     "data": {
      "text/plain": [
       "(176456,)"
      ]
     },
     "execution_count": 18,
     "metadata": {},
     "output_type": "execute_result"
    }
   ],
   "source": [
    "op_per_case_data.case_id.unique().shape"
   ]
  },
  {
   "cell_type": "code",
   "execution_count": 20,
   "metadata": {},
   "outputs": [
    {
     "data": {
      "text/plain": [
       "{425837,\n",
       " 1309526,\n",
       " 1314472,\n",
       " 1555015,\n",
       " 1652916,\n",
       " 1700081,\n",
       " 1727597,\n",
       " 1907420,\n",
       " 2578560,\n",
       " 2588008,\n",
       " 2904954,\n",
       " 5784751,\n",
       " 5785101,\n",
       " 5785354,\n",
       " 5785778,\n",
       " 5785986,\n",
       " 5786114,\n",
       " 5786383,\n",
       " 5786429,\n",
       " 5786494,\n",
       " 5786701,\n",
       " 5787311,\n",
       " 5788137,\n",
       " 5789923,\n",
       " 5789961,\n",
       " 5790406,\n",
       " 8728354}"
      ]
     },
     "execution_count": 20,
     "metadata": {},
     "output_type": "execute_result"
    }
   ],
   "source": [
    "# NOTE: THE FOLLOWING CASES DO NOT HAVE ANY OPINIONS ASSOCIATED TO THEM!\n",
    "# This means that these cases were cited by other cases in the corpus, although they do not\n",
    "# themselves have any opinions in the corpus.\n",
    "set(nodes) - set(op_per_case_data.case_id.to_list())"
   ]
  },
  {
   "cell_type": "code",
   "execution_count": 24,
   "metadata": {},
   "outputs": [
    {
     "data": {
      "image/png": "[encoded data removed]",
      "text/plain": [
       "<Figure size 432x288 with 1 Axes>"
      ]
     },
     "metadata": {
      "needs_background": "light"
     },
     "output_type": "display_data"
    }
   ],
   "source": [
    "fig, ax = plt.subplots()\n",
    "op_per_case_data.case_id.value_counts().hist(ax=ax)\n",
    "ax.set_title('Count of opinions per node')\n",
    "plt.show()"
   ]
  },
  {
   "cell_type": "code",
   "execution_count": 29,
   "metadata": {},
   "outputs": [
    {
     "data": {
      "text/plain": [
       "(176483, 4)"
      ]
     },
     "execution_count": 29,
     "metadata": {},
     "output_type": "execute_result"
    }
   ],
   "source": [
    "op_per_case_data = None\n",
    "data = pd.read_csv('../data_uncompressed/citation_graph_data_no_ops.csv')\n",
    "\n",
    "data = data[data.case_id.isin(nodes)]\n",
    "data.shape"
   ]
  },
  {
   "cell_type": "code",
   "execution_count": 40,
   "metadata": {},
   "outputs": [
    {
     "data": {
      "text/plain": [
       "Illinois      105675\n",
       "Arkansas       53934\n",
       "New Mexico     16874\n",
       "Name: jurisdiction, dtype: int64"
      ]
     },
     "execution_count": 40,
     "metadata": {},
     "output_type": "execute_result"
    }
   ],
   "source": [
    "# Get jurisdiction value counts\n",
    "data.jurisdiction.value_counts()"
   ]
  },
  {
   "cell_type": "code",
   "execution_count": 42,
   "metadata": {},
   "outputs": [
    {
     "data": {
      "image/png": "[encoded data removed]",
      "text/plain": [
       "<Figure size 432x288 with 1 Axes>"
      ]
     },
     "metadata": {
      "needs_background": "light"
     },
     "output_type": "display_data"
    }
   ],
   "source": [
    "# View histogram of year\n",
    "\n",
    "fig, ax = plt.subplots()\n",
    "data.decision_year.hist(ax=ax)\n",
    "ax.set_title('Citation Graph Nodes Decision Year Count')\n",
    "plt.show()\n",
    "\n",
    "# Several cases are pre-1950. "
   ]
  },
  {
   "cell_type": "code",
   "execution_count": 43,
   "metadata": {},
   "outputs": [
    {
     "data": {
      "image/png": "[encoded data removed]",
      "text/plain": [
       "<Figure size 432x288 with 1 Axes>"
      ]
     },
     "metadata": {
      "needs_background": "light"
     },
     "output_type": "display_data"
    }
   ],
   "source": [
    "# Decision year by jurisdiction\n",
    "\n",
    "groups = data.groupby('jurisdiction').decision_year\n",
    "\n",
    "fig, ax = plt.subplots()\n",
    "\n",
    "for k, v in groups:\n",
    "    v.hist(label=k, alpha=.50, ax=ax)\n",
    "\n",
    "ax.legend()\n",
    "ax.set_title('Decision Year by Jurisdiction')\n",
    "\n",
    "plt.show()"
   ]
  },
  {
   "cell_type": "code",
   "execution_count": 44,
   "metadata": {},
   "outputs": [
    {
     "data": {
      "text/plain": [
       "Illinois Appellate Court                       62157\n",
       "Arkansas Supreme Court                         45583\n",
       "Illinois Supreme Court                         41111\n",
       "Supreme Court of New Mexico                    10033\n",
       "Arkansas Court of Appeals                       8348\n",
       "Court of Appeals of New Mexico                  6841\n",
       "Illinois Court of Claims                        2294\n",
       "Illinois Circuit Court                           113\n",
       "Superior Court of the Territory of Arkansas        2\n",
       "Arkansas Circuit Court                             1\n",
       "Name: court, dtype: int64"
      ]
     },
     "execution_count": 44,
     "metadata": {},
     "output_type": "execute_result"
    }
   ],
   "source": [
    "# Court type value counts.\n",
    "\n",
    "data.court.value_counts()"
   ]
  },
  {
   "cell_type": "code",
   "execution_count": null,
   "metadata": {},
   "outputs": [],
   "source": []
  }
 ],
 "metadata": {
  "kernelspec": {
   "display_name": "Python 3",
   "language": "python",
   "name": "python3"
  },
  "language_info": {
   "codemirror_mode": {
    "name": "ipython",
    "version": 3
   },
   "file_extension": ".py",
   "mimetype": "text/x-python",
   "name": "python",
   "nbconvert_exporter": "python",
   "pygments_lexer": "ipython3",
   "version": "3.6.8"
  }
 },
 "nbformat": 4,
 "nbformat_minor": 2
}
