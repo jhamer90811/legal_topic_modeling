{
 "cells": [
  {
   "cell_type": "code",
   "execution_count": 5,
   "metadata": {},
   "outputs": [],
   "source": [
    "\"\"\"\n",
    "In this notebook we examine several datasets to look for a basic set of legal stopwords.\n",
    "\"\"\"\n",
    "import pandas as pd\n",
    "import os\n",
    "\n",
    "import time\n",
    "\n",
    "data_header = '/Users/jhamer90811/Documents/Insight/legal_topic_modeling/data_uncompressed/baseline_12k'\n",
    "\n",
    "\n",
    "datasets = ['random_cases2','cases_after1950_12k', 'cases_IL_12k', 'cases_IL_after1950_12k']\n"
   ]
  },
  {
   "cell_type": "code",
   "execution_count": 2,
   "metadata": {},
   "outputs": [],
   "source": [
    "# Helper funcitons\n",
    "def parse_list_col(df, col_to_parse):\n",
    "    df.loc[:, col_to_parse] = df[col_to_parse].apply(lambda x: x.strip('[]').split(','))\n",
    "    df.loc[:, col_to_parse] = df[col_to_parse].apply(lambda x: [t.strip().strip(\"'\") for t in x])\n",
    "\n",
    "# ************** THIS FUNCTION COURTESY OF EDWIN ZHANG **********\n",
    "# Yields top n words by average frequency per document.\n",
    "def sort_common_words(text, ngram = 1, n = 10,  tfidf = False, stopwords = None, binary = False,\n",
    "                     rare = False):\n",
    "    '''\n",
    "    Return incidence of the n words that appear in the highest proportion of text samples\n",
    "    \n",
    "    Input:\n",
    "        text (pd.Series): text to be analyzed\n",
    "        n-gram(int): n-gram to analyze (default: unigram)\n",
    "        n (int): number of words to return\n",
    "        tfidf (boolean): if True, use tf-idf vector instead of binary count\n",
    "        stopwords (str or None): common/basic words to remove in the vectorization process (keep None if using to find stopwords) \n",
    "        binary (boolean): if True, indicate presence or absence of word in doc\n",
    "        rare (boolean): if True, return the rarest words instead of the most common\n",
    "    Output:\n",
    "        top_n_words: proportion of text samples that contain each of the top n words\n",
    "    '''\n",
    "    from sklearn.feature_extraction.text import CountVectorizer,  TfidfVectorizer\n",
    "    from scipy.sparse import csr_matrix\n",
    "    \n",
    "    # Transform data into vectorized word binary counts or tf-idf counts\n",
    "    if tfidf == True: \n",
    "        vect =  TfidfVectorizer(lowercase=True, analyzer='word', ngram_range=(ngram, ngram), stop_words = stopwords,\n",
    "                               binary=binary)\n",
    "    else:\n",
    "        vect = CountVectorizer(lowercase=True, analyzer='word', ngram_range=(ngram, ngram), stop_words = stopwords,\n",
    "                              binary=binary)\n",
    "    word_counts = vect.fit_transform(text)\n",
    "    vocab = vect.get_feature_names()\n",
    "    num_entries = word_counts.shape[0]\n",
    "    \n",
    "    # Convert sparse matrix to a 1-column pandas DataFrame then to a pandas Series\n",
    "    word_counts = word_counts.sum(axis = 0)\n",
    "    word_counts = pd.DataFrame(word_counts)\n",
    "    word_counts.columns = vocab\n",
    "    word_counts = word_counts.transpose()\n",
    "    word_counts = word_counts.iloc[:, 0]\n",
    "    \n",
    "    # Sort by word's prevalence and convert to proportion of text entires that includes the word\n",
    "    if rare:\n",
    "        top_n_words = word_counts.nsmallest(n) / num_entries\n",
    "    else:\n",
    "        top_n_words = word_counts.nlargest(n) / num_entries\n",
    "    \n",
    "    return top_n_words\n",
    "\n",
    "def get_common_words(data_header, datasets, opinion_col, n=50, binary=True, rare=False):\n",
    "    \n",
    "    common_words = pd.DataFrame()\n",
    "\n",
    "    for dataset in datasets:\n",
    "        data = pd.read_csv(os.path.join(data_header, dataset+'_processed.csv'))\n",
    "        parse_list_col(data, opinion_col)\n",
    "        data['opinion_string'] = data['opinion'].apply(lambda x: ' '.join(x))\n",
    "        data_cw = pd.DataFrame(sort_common_words(data['opinion_string'], n=n, binary=binary,\n",
    "                                                rare=rare)).transpose()\n",
    "        data_cw.index = [dataset]\n",
    "        common_words = common_words.append(data_cw)\n",
    "\n",
    "    return common_words.transpose()\n"
   ]
  },
  {
   "cell_type": "code",
   "execution_count": 8,
   "metadata": {},
   "outputs": [
    {
     "name": "stderr",
     "output_type": "stream",
     "text": [
      "/Applications/anaconda3/envs/insight/lib/python3.6/site-packages/pandas/core/frame.py:6692: FutureWarning: Sorting because non-concatenation axis is not aligned. A future version\n",
      "of pandas will change to not sort by default.\n",
      "\n",
      "To accept the future behavior, pass 'sort=False'.\n",
      "\n",
      "To retain the current behavior and silence the warning, pass 'sort=True'.\n",
      "\n",
      "  sort=sort)\n"
     ]
    }
   ],
   "source": [
    "# Common words: list of top 50 words from each corpus according to the proportion of documents\n",
    "# in which they appear.\n",
    "common_words = get_common_words(data_header, datasets, 'opinion')\n",
    "# Frequent words: list of top 50 words from each corpus according to the average frequency with\n",
    "# which they appear in each document.\n",
    "frequent_words = get_common_words(data_header, datasets, 'opinion', binary=False)"
   ]
  },
  {
   "cell_type": "code",
   "execution_count": 27,
   "metadata": {},
   "outputs": [
    {
     "name": "stdout",
     "output_type": "stream",
     "text": [
      "           random_cases2  cases_after1950_12k  cases_IL_12k  cases_IL_after1950_12k\n",
      "act             0.526333                  NaN      0.550500                     NaN\n",
      "action          0.553083             0.557000      0.555917                0.629500\n",
      "affirm          0.587583             0.613417      0.616833                0.667833\n",
      "agree                NaN             0.567500           NaN                     NaN\n",
      "allege               NaN                  NaN      0.492167                     NaN\n",
      "appeal          0.705000             0.806500      0.624333                0.826667\n",
      "appear          0.487333                  NaN      0.548667                     NaN\n",
      "appellant       0.482167                  NaN           NaN                     NaN\n",
      "argue                NaN             0.579750           NaN                0.646583\n",
      "base                 NaN             0.558083           NaN                0.610917\n",
      "because         0.527833                  NaN      0.615417                0.625750\n",
      "case            0.899583             0.907083      0.896583                0.936583\n",
      "claim           0.562333             0.579167      0.579500                0.629167\n",
      "concur               NaN             0.586833           NaN                0.708417\n",
      "consider        0.528083             0.606750      0.512833                0.673167\n",
      "contend              NaN             0.530167           NaN                0.631583\n",
      "court           0.926500             0.925333      0.943333                0.950917\n",
      "decision             NaN             0.556000           NaN                     NaN\n",
      "defendant       0.607417             0.623500      0.691083                0.790000\n",
      "deliver              NaN                  NaN      0.842417                0.836333\n",
      "deny            0.507333             0.610500           NaN                0.680000\n",
      "determine       0.522583             0.620833      0.493667                0.690000\n",
      "enter           0.486500             0.524167      0.566667                0.641917\n",
      "error                NaN                  NaN      0.494000                     NaN\n",
      "evidence        0.677333             0.698917      0.693917                0.725250\n",
      "fact            0.771833             0.783000      0.751167                0.836583\n",
      "fail                 NaN             0.552583           NaN                0.626833\n",
      "file            0.566667             0.616917      0.595500                0.682917\n",
      "find            0.689583             0.767417      0.684917                0.833500\n",
      "follow          0.643000             0.668500      0.610833                0.727833\n",
      "give            0.615333             0.606250      0.656417                0.664833\n",
      "hold            0.722917             0.769667      0.716833                0.808750\n",
      "include              NaN             0.532083           NaN                0.600667\n",
      "issue           0.629083             0.752417      0.571750                0.787417\n",
      "judgment        0.695250             0.642667      0.776500                0.776917\n",
      "law             0.696417             0.683667      0.690667                0.718917\n",
      "matter          0.534417             0.575917      0.499583                0.606167\n",
      "motion               NaN             0.546583           NaN                0.644000\n",
      "opinion         0.749667             0.749333      0.923750                0.934167\n",
      "order           0.699750             0.753500      0.613000                0.753000\n",
      "party           0.590500             0.595833      0.616417                0.655500\n",
      "person          0.502417                  NaN      0.522167                     NaN\n",
      "plaintiff            NaN                  NaN      0.522167                     NaN\n",
      "point                NaN             0.521250           NaN                     NaN\n",
      "present         0.602083             0.662417      0.599917                0.741167\n",
      "provide         0.588833             0.674167      0.570583                0.722083\n",
      "purpose         0.504500                  NaN      0.511667                     NaN\n",
      "question        0.708333             0.682583      0.751500                0.748667\n",
      "reason          0.555167             0.578583      0.607417                0.712833\n",
      "record          0.570333             0.603833      0.629083                0.673833\n",
      "require         0.619417             0.691333      0.604167                0.735750\n",
      "result          0.506417             0.593583           NaN                0.658083\n",
      "reverse         0.481500                  NaN      0.529083                     NaN\n",
      "right           0.627583             0.623750      0.646750                0.684083\n",
      "rule            0.594500             0.642833      0.545250                0.646833\n",
      "say             0.612333                  NaN      0.680250                     NaN\n",
      "section              NaN                  NaN           NaN                0.606417\n",
      "see             0.569750             0.699917           NaN                0.695167\n",
      "set                  NaN                  NaN      0.494583                     NaN\n",
      "show            0.504833                  NaN      0.548833                     NaN\n",
      "state           0.775083             0.840000      0.687333                0.856083\n",
      "support         0.509750             0.603417           NaN                0.633667\n",
      "take            0.552250             0.550500      0.614083                0.635083\n",
      "there           0.507750                  NaN      0.513583                     NaN\n",
      "time            0.751000             0.759583      0.753667                0.816083\n",
      "trial           0.668500             0.771000      0.618167                0.817417\n"
     ]
    }
   ],
   "source": [
    "print(common_words.to_string())\n"
   ]
  },
  {
   "cell_type": "code",
   "execution_count": 42,
   "metadata": {},
   "outputs": [
    {
     "name": "stdout",
     "output_type": "stream",
     "text": [
      "           random_cases2  cases_after1950_12k  cases_IL_12k  cases_IL_after1950_12k\n",
      "2d              2.022167             2.686417           NaN                     NaN\n",
      "act             2.399917             1.940167      2.507250                     NaN\n",
      "action          2.437167             2.766333      2.471083                3.750167\n",
      "allege               NaN                  NaN           NaN                2.387500\n",
      "appeal          2.921083             3.836000      2.265167                3.906000\n",
      "appellant       3.816250             2.957750      2.732750                     NaN\n",
      "appellee        2.111333                  NaN      2.072667                     NaN\n",
      "argue                NaN             2.230417           NaN                2.643500\n",
      "because              NaN                  NaN      1.948167                2.537333\n",
      "case            7.126917             7.553333      6.880750                8.750000\n",
      "child                NaN             2.313333           NaN                     NaN\n",
      "claim           2.999750             3.381083      2.595250                3.451250\n",
      "complaint            NaN                  NaN           NaN                2.904833\n",
      "contract        2.240750                  NaN      2.578083                2.499583\n",
      "counsel              NaN             1.935250           NaN                2.515583\n",
      "court          13.569500            16.822917     13.635083               21.727583\n",
      "decision             NaN             1.959750           NaN                     NaN\n",
      "defendant       8.486083            12.183583     12.053833               23.293583\n",
      "deny                 NaN             1.999833           NaN                2.662333\n",
      "determine            NaN             2.121667           NaN                2.343750\n",
      "error                NaN                  NaN      2.338000                     NaN\n",
      "evidence        5.435250             6.388917      5.338333                7.187167\n",
      "fact            3.543833             3.816083      3.324250                4.418667\n",
      "file            2.465000             2.939833      2.753667                3.774833\n",
      "find            2.738833             3.563000      2.815917                4.829833\n",
      "follow          1.792167             1.930083           NaN                2.332250\n",
      "give            1.892333                  NaN      2.161583                     NaN\n",
      "hearing              NaN             1.934917           NaN                     NaN\n",
      "hold            2.969167             3.275750      2.831750                3.499333\n",
      "interest        1.809833                  NaN           NaN                     NaN\n",
      "issue           2.999417             4.016500      2.417917                4.275250\n",
      "judgment        3.452667             3.544417      3.975167                4.469250\n",
      "jury            2.793417             3.083333      2.623583                3.683500\n",
      "law             3.498917             3.307917      3.104250                3.398667\n",
      "motion          2.397083             3.405583      2.397750                4.594667\n",
      "note                 NaN                  NaN      1.817583                     NaN\n",
      "opinion         1.848833             2.001750      2.138167                2.524167\n",
      "order           3.481583             4.322417      3.190250                4.802000\n",
      "par                  NaN                  NaN           NaN                2.395417\n",
      "party           2.915500             3.261833      2.979500                3.832333\n",
      "pay             2.114917                  NaN      2.651417                     NaN\n",
      "people               NaN                  NaN      2.170083                4.601917\n",
      "person          1.844667             1.971917      1.804917                     NaN\n",
      "plaintiff       4.298583             5.038917      6.935833               10.836000\n",
      "present         1.816000             2.215917      1.812000                2.922917\n",
      "property        2.820583             2.847750      3.218500                3.403083\n",
      "provide         2.344917             2.785250      2.246417                3.273083\n",
      "question        2.789583             2.632750      3.086250                3.216333\n",
      "record          2.079167             2.311917      2.369250                3.082500\n",
      "require         2.211500             2.675667      1.972417                2.817667\n",
      "right           3.319917             3.591667      3.107500                3.775000\n",
      "rule            2.399750             2.895417      1.842917                2.747583\n",
      "say             3.858000                  NaN      4.884583                     NaN\n",
      "section         2.407250             2.975083      2.966167                4.969500\n",
      "see             2.560917             3.514333           NaN                3.211583\n",
      "shall           1.940750                  NaN      1.951917                     NaN\n",
      "state           4.983750             6.159500      3.135667                5.619000\n",
      "statement            NaN                  NaN           NaN                2.508833\n",
      "statute         2.582667             2.689750      1.991083                2.562000\n",
      "support         1.782917             2.383917           NaN                     NaN\n",
      "take                 NaN                  NaN      1.821250                     NaN\n",
      "testify         1.983583             2.774667      2.393417                4.532000\n",
      "testimony       2.095417             2.458583      1.861000                3.260333\n",
      "time            3.650333             3.750750      3.964250                4.729500\n",
      "trial           5.766917             8.767417      5.277333               11.365167\n",
      "witness              NaN                  NaN           NaN                2.462833\n",
      "year            1.784167             1.969000      1.990500                2.445417\n"
     ]
    }
   ],
   "source": [
    "print(frequent_words.to_string())"
   ]
  },
  {
   "cell_type": "code",
   "execution_count": 9,
   "metadata": {},
   "outputs": [
    {
     "name": "stderr",
     "output_type": "stream",
     "text": [
      "/Applications/anaconda3/envs/insight/lib/python3.6/site-packages/ipykernel_launcher.py:5: SettingWithCopyWarning: \n",
      "A value is trying to be set on a copy of a slice from a DataFrame.\n",
      "Try using .loc[row_indexer,col_indexer] = value instead\n",
      "\n",
      "See the caveats in the documentation: http://pandas.pydata.org/pandas-docs/stable/indexing.html#indexing-view-versus-copy\n",
      "  \"\"\"\n",
      "/Applications/anaconda3/envs/insight/lib/python3.6/site-packages/ipykernel_launcher.py:6: SettingWithCopyWarning: \n",
      "A value is trying to be set on a copy of a slice from a DataFrame.\n",
      "Try using .loc[row_indexer,col_indexer] = value instead\n",
      "\n",
      "See the caveats in the documentation: http://pandas.pydata.org/pandas-docs/stable/indexing.html#indexing-view-versus-copy\n",
      "  \n",
      "/Applications/anaconda3/envs/insight/lib/python3.6/site-packages/ipykernel_launcher.py:7: SettingWithCopyWarning: \n",
      "A value is trying to be set on a copy of a slice from a DataFrame.\n",
      "Try using .loc[row_indexer,col_indexer] = value instead\n",
      "\n",
      "See the caveats in the documentation: http://pandas.pydata.org/pandas-docs/stable/indexing.html#indexing-view-versus-copy\n",
      "  import sys\n",
      "/Applications/anaconda3/envs/insight/lib/python3.6/site-packages/ipykernel_launcher.py:8: SettingWithCopyWarning: \n",
      "A value is trying to be set on a copy of a slice from a DataFrame.\n",
      "Try using .loc[row_indexer,col_indexer] = value instead\n",
      "\n",
      "See the caveats in the documentation: http://pandas.pydata.org/pandas-docs/stable/indexing.html#indexing-view-versus-copy\n",
      "  \n"
     ]
    }
   ],
   "source": [
    "# Which words are common across all four corpuses?\n",
    "common_words_all = common_words.dropna()\n",
    "frequent_words_all = frequent_words.dropna()\n",
    "\n",
    "common_words_all['mean'] = common_words_all.mean(axis=1)\n",
    "common_words_all['std'] = common_words_all.std(axis=1)\n",
    "frequent_words_all['mean'] = frequent_words_all.mean(axis=1)\n",
    "frequent_words_all['std'] = frequent_words_all.std(axis=1)"
   ]
  },
  {
   "cell_type": "code",
   "execution_count": 10,
   "metadata": {},
   "outputs": [],
   "source": [
    "common_words_all = common_words_all.sort_values('mean', ascending=False)"
   ]
  },
  {
   "cell_type": "code",
   "execution_count": 11,
   "metadata": {},
   "outputs": [],
   "source": [
    "frequent_words_all = frequent_words_all.sort_values('mean', ascending=False)"
   ]
  },
  {
   "cell_type": "code",
   "execution_count": 12,
   "metadata": {},
   "outputs": [
    {
     "name": "stdout",
     "output_type": "stream",
     "text": [
      "{'fact', 'case', 'time', 'trial', 'state', 'find', 'question', 'defendant', 'court', 'hold', 'order', 'appeal', 'judgment', 'opinion'}\n"
     ]
    }
   ],
   "source": [
    "basic_legal_stop_words = set(common_words_all[common_words_all['mean']>0.7].index)|\\\n",
    "                              set(frequent_words_all[frequent_words_all['mean']>10].index)\n",
    "print(basic_legal_stop_words)\n"
   ]
  },
  {
   "cell_type": "code",
   "execution_count": 13,
   "metadata": {},
   "outputs": [],
   "source": [
    "# There are also several regional reporters left in the vocabulary that we should remove.\n",
    "reporters = set(['p.2d', 'p.3d', 's.e.', 's.e.2d', 's.e.3d', 'n.e.', 'n.e.2d',\n",
    "                'p.', 'a.', 'a.2d', 'a.3d', 'so.','so.2d', 's.w.', 's.w.2d', 's.w.3d.',\n",
    "                'f. supp.', 'f.supp.', 'f.supp.2d', 'f.supp.3d'])\n",
    "basic_legal_stop_words|=reporters"
   ]
  },
  {
   "cell_type": "code",
   "execution_count": 14,
   "metadata": {},
   "outputs": [],
   "source": [
    "# I will also add plaintiff as this seems to carry about as much meaning as \"defendant\", even if it\n",
    "# appears less frequently. Same for appellee, appellant, see, and cir.\n",
    "\n",
    "basic_legal_stop_words|={'plaintiff', 'appellee', 'appellant', 'see', 'cir'}"
   ]
  },
  {
   "cell_type": "code",
   "execution_count": 15,
   "metadata": {},
   "outputs": [
    {
     "data": {
      "text/plain": [
       "{'a.',\n",
       " 'a.2d',\n",
       " 'a.3d',\n",
       " 'appeal',\n",
       " 'appellant',\n",
       " 'appellee',\n",
       " 'case',\n",
       " 'cir',\n",
       " 'court',\n",
       " 'defendant',\n",
       " 'f. supp.',\n",
       " 'f.supp.',\n",
       " 'f.supp.2d',\n",
       " 'f.supp.3d',\n",
       " 'fact',\n",
       " 'find',\n",
       " 'hold',\n",
       " 'judgment',\n",
       " 'n.e.',\n",
       " 'n.e.2d',\n",
       " 'opinion',\n",
       " 'order',\n",
       " 'p.',\n",
       " 'p.2d',\n",
       " 'p.3d',\n",
       " 'plaintiff',\n",
       " 'question',\n",
       " 's.e.',\n",
       " 's.e.2d',\n",
       " 's.e.3d',\n",
       " 's.w.',\n",
       " 's.w.2d',\n",
       " 's.w.3d.',\n",
       " 'see',\n",
       " 'so.',\n",
       " 'so.2d',\n",
       " 'state',\n",
       " 'time',\n",
       " 'trial'}"
      ]
     },
     "execution_count": 15,
     "metadata": {},
     "output_type": "execute_result"
    }
   ],
   "source": [
    "basic_legal_stop_words"
   ]
  },
  {
   "cell_type": "code",
   "execution_count": null,
   "metadata": {},
   "outputs": [],
   "source": []
  }
 ],
 "metadata": {
  "kernelspec": {
   "display_name": "Python 3",
   "language": "python",
   "name": "python3"
  },
  "language_info": {
   "codemirror_mode": {
    "name": "ipython",
    "version": 3
   },
   "file_extension": ".py",
   "mimetype": "text/x-python",
   "name": "python",
   "nbconvert_exporter": "python",
   "pygments_lexer": "ipython3",
   "version": "3.6.8"
  }
 },
 "nbformat": 4,
 "nbformat_minor": 2
}
