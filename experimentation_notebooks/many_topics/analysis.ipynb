{
 "cells": [
  {
   "cell_type": "code",
   "execution_count": null,
   "metadata": {},
   "outputs": [],
   "source": [
    "\"\"\"\n",
    "In this notebook we compare performance of topic modeling for the basic_stopwords_nouns_verbs\n",
    "preprocessor and the different sample sizes 12k and 42k. We restrict\n",
    "to the cases_IL_after1950 datasets.\n",
    "\"\"\"\n",
    "\n",
    "import pandas as pd\n",
    "import matplotlib.pyplot as plt\n",
    "import seaborn as sns\n",
    "import os\n",
    "%matplotlib inline\n",
    "\n",
    "results_header = '/Users/jhamer90811/Documents/Insight/legal_topic_modeling/validation_output'\n",
    "\n",
    "preprocessor_headers = ['basic_stopwords_nouns_verbs']\n",
    "\n",
    "sizes = ['_12k', '_42k']\n",
    "\n",
    "num_topics = ['', '_many_topics']\n",
    "\n",
    "dataset = 'cases_IL_after1950'\n",
    "\n"
   ]
  },
  {
   "cell_type": "code",
   "execution_count": null,
   "metadata": {},
   "outputs": [],
   "source": [
    "data = pd.DataFrame()\n",
    "for prep in preprocessor_headers:\n",
    "    for size in sizes:\n",
    "        for nt in num_topics:\n",
    "            new_data = pd.read_csv(os.path.join(results_header, prep + size, dataset + size + nt+ '.csv'))\n",
    "            new_data['preprocessor_size'] = prep+size\n",
    "            data = data.append(new_data, ignore_index=True)"
   ]
  },
  {
   "cell_type": "code",
   "execution_count": null,
   "metadata": {},
   "outputs": [],
   "source": [
    "data"
   ]
  },
  {
   "cell_type": "code",
   "execution_count": null,
   "metadata": {},
   "outputs": [],
   "source": [
    "# Test perplexity\n",
    "ax = sns.lineplot('num_topics', 'test_perplexity', hue='preprocessor_size', data=data)\n",
    "ax.set_title('Test Perplexity vs. Number of Topics')\n",
    "plt.legend(bbox_to_anchor=(1.05, 1), loc='upper left', borderaxespad=0.)\n",
    "plt.show()"
   ]
  },
  {
   "cell_type": "code",
   "execution_count": null,
   "metadata": {},
   "outputs": [],
   "source": [
    "# Test coherence\n",
    "ax = sns.lineplot('num_topics', 'test_coherence', hue='preprocessor_size', data=data)\n",
    "ax.set_title('Test Coherence vs. Number of Topics')\n",
    "plt.legend(bbox_to_anchor=(1.05, 1), loc='upper left', borderaxespad=0.)\n",
    "plt.show()"
   ]
  },
  {
   "cell_type": "code",
   "execution_count": null,
   "metadata": {},
   "outputs": [],
   "source": [
    "# Min citation distance\n",
    "ax = sns.lineplot('num_topics', 'min_cite_dist_mean', hue='preprocessor_size', data=data)\n",
    "ax.set_title('Min Citation Distance vs. Number of Topics')\n",
    "plt.legend(bbox_to_anchor=(1.05, 1), loc='upper left', borderaxespad=0.)\n",
    "plt.show()"
   ]
  },
  {
   "cell_type": "code",
   "execution_count": null,
   "metadata": {},
   "outputs": [],
   "source": [
    "# Average citation distance\n",
    "ax = sns.lineplot('num_topics', 'avg_cite_dist_mean', hue='preprocessor_size', data=data)\n",
    "ax.set_title('Avg Citation Distance vs. Number of Topics')\n",
    "plt.legend(bbox_to_anchor=(1.05, 1), loc='upper left', borderaxespad=0.)\n",
    "plt.show()"
   ]
  },
  {
   "cell_type": "code",
   "execution_count": null,
   "metadata": {},
   "outputs": [],
   "source": [
    "# Maximum citation distance\n",
    "ax = sns.lineplot('num_topics', 'max_cite_dist_mean', hue='preprocessor_size', data=data)\n",
    "ax.set_title('Max Citation Distance vs. Number of Topics')\n",
    "plt.legend(bbox_to_anchor=(1.05, 1), loc='upper left', borderaxespad=0.)\n",
    "plt.show()"
   ]
  },
  {
   "cell_type": "code",
   "execution_count": null,
   "metadata": {},
   "outputs": [],
   "source": [
    "# Min citation distance sd\n",
    "ax = sns.lineplot('num_topics', 'min_cite_dist_sd', hue='preprocessor_size', data=data)\n",
    "ax.set_title('Min Citation Distance vs. Number of Topics')\n",
    "plt.legend(bbox_to_anchor=(1.05, 1), loc='upper left', borderaxespad=0.)\n",
    "plt.show()"
   ]
  },
  {
   "cell_type": "code",
   "execution_count": null,
   "metadata": {},
   "outputs": [],
   "source": [
    "# Average citation distance sd\n",
    "ax = sns.lineplot('num_topics', 'avg_cite_dist_sd', hue='preprocessor_size', data=data)\n",
    "ax.set_title('Avg Citation Distance vs. Number of Topics')\n",
    "plt.legend(bbox_to_anchor=(1.05, 1), loc='upper left', borderaxespad=0.)\n",
    "plt.show()"
   ]
  },
  {
   "cell_type": "code",
   "execution_count": null,
   "metadata": {},
   "outputs": [],
   "source": [
    "# Maximum citation distance sd\n",
    "ax = sns.lineplot('num_topics', 'max_cite_dist_sd', hue='preprocessor_size', data=data)\n",
    "ax.set_title('Max Citation Distance vs. Number of Topics')\n",
    "plt.legend(bbox_to_anchor=(1.05, 1), loc='upper left', borderaxespad=0.)\n",
    "plt.show()"
   ]
  }
 ],
 "metadata": {
  "kernelspec": {
   "display_name": "Python 3",
   "language": "python",
   "name": "python3"
  },
  "language_info": {
   "codemirror_mode": {
    "name": "ipython",
    "version": 3
   },
   "file_extension": ".py",
   "mimetype": "text/x-python",
   "name": "python",
   "nbconvert_exporter": "python",
   "pygments_lexer": "ipython3",
   "version": "3.6.8"
  }
 },
 "nbformat": 4,
 "nbformat_minor": 2
}
